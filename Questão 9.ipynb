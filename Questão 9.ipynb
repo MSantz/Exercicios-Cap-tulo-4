{
 "cells": [
  {
   "cell_type": "code",
   "execution_count": 9,
   "metadata": {},
   "outputs": [
    {
     "name": "stdout",
     "output_type": "stream",
     "text": [
      "De: tim@abc.com\n",
      "Para: tom@xyz.org\n",
      "Assunto: Hello!\n",
      "\n",
      "Olá, boa noite!\n",
      "Informamos que hoje não teremos aula devido a um aviso prévio.\n",
      "\n",
      "att. Matheus Santos\n"
     ]
    }
   ],
   "source": [
    "remetente = 'tim@abc.com'\n",
    "destinatário ='tom@xyz.org'\n",
    "assunto = 'Hello!'\n",
    "print('De: {}\\nPara: {}\\nAssunto: {}'.format(remetente, destinatário, assunto))\n",
    "print('\\nOlá, boa noite!\\nInformamos que hoje não teremos aula devido a um aviso prévio.\\n\\natt. Matheus Santos')"
   ]
  }
 ],
 "metadata": {
  "kernelspec": {
   "display_name": "Python 3",
   "language": "python",
   "name": "python3"
  },
  "language_info": {
   "codemirror_mode": {
    "name": "ipython",
    "version": 3
   },
   "file_extension": ".py",
   "mimetype": "text/x-python",
   "name": "python",
   "nbconvert_exporter": "python",
   "pygments_lexer": "ipython3",
   "version": "3.10.4"
  },
  "orig_nbformat": 4
 },
 "nbformat": 4,
 "nbformat_minor": 2
}
