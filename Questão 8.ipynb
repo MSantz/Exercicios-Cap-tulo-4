{
 "cells": [
  {
   "cell_type": "code",
   "execution_count": 1,
   "metadata": {},
   "outputs": [
    {
     "ename": "SyntaxError",
     "evalue": "invalid syntax (2311330729.py, line 1)",
     "output_type": "error",
     "traceback": [
      "\u001b[1;36m  Cell \u001b[1;32mIn[1], line 1\u001b[1;36m\u001b[0m\n\u001b[1;33m    Escreva instruções Python que exibam as saídas formatadas a seguir usando as variáveis já atribuídas primeiro, meio e último: >>> primeiro = 'Marlena'>>> meio = 'Sigel'>>> último ='Mae'(a)Sigel, Marlena MaeSigel, Marlena M.Marlena M. SigelM. M. Sigel\u001b[0m\n\u001b[1;37m            ^\u001b[0m\n\u001b[1;31mSyntaxError\u001b[0m\u001b[1;31m:\u001b[0m invalid syntax\n"
     ]
    }
   ],
   "source": []
  },
  {
   "cell_type": "code",
   "execution_count": 3,
   "metadata": {},
   "outputs": [
    {
     "name": "stdout",
     "output_type": "stream",
     "text": [
      "Sigel, Marlena Mae\n"
     ]
    }
   ],
   "source": [
    "primeiro = 'Marlena'\n",
    "meio = 'Sigel'\n",
    "último ='Mae'\n",
    "\n",
    "print(f'{meio}, {primeiro} {último}')"
   ]
  },
  {
   "cell_type": "code",
   "execution_count": 10,
   "metadata": {},
   "outputs": [
    {
     "name": "stdout",
     "output_type": "stream",
     "text": [
      "Sigel, Marlena M.\n"
     ]
    }
   ],
   "source": [
    "print(f'{meio}, {primeiro} {último[0]}.')"
   ]
  },
  {
   "cell_type": "code",
   "execution_count": 9,
   "metadata": {},
   "outputs": [
    {
     "name": "stdout",
     "output_type": "stream",
     "text": [
      "Marlena M. Sigel\n"
     ]
    }
   ],
   "source": [
    "print(f'{primeiro} {último[0]}. {meio}')"
   ]
  },
  {
   "cell_type": "code",
   "execution_count": 8,
   "metadata": {},
   "outputs": [
    {
     "name": "stdout",
     "output_type": "stream",
     "text": [
      "M. M. Sigel\n"
     ]
    }
   ],
   "source": [
    "print(f'{primeiro[0]}. {último[0]}. {meio}')\n"
   ]
  }
 ],
 "metadata": {
  "kernelspec": {
   "display_name": "Python 3",
   "language": "python",
   "name": "python3"
  },
  "language_info": {
   "codemirror_mode": {
    "name": "ipython",
    "version": 3
   },
   "file_extension": ".py",
   "mimetype": "text/x-python",
   "name": "python",
   "nbconvert_exporter": "python",
   "pygments_lexer": "ipython3",
   "version": "3.10.4"
  },
  "orig_nbformat": 4
 },
 "nbformat": 4,
 "nbformat_minor": 2
}
