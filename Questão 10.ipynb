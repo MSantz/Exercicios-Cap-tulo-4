{
 "cells": [
  {
   "cell_type": "code",
   "execution_count": 1,
   "metadata": {},
   "outputs": [
    {
     "name": "stdout",
     "output_type": "stream",
     "text": [
      "pi = 3.1, e = 2.7\n"
     ]
    }
   ],
   "source": [
    "pi = 3.1\n",
    "e = 2.7\n",
    "print(\"pi = {:.1f}, e = {:.1f}\".format(pi, e))"
   ]
  },
  {
   "cell_type": "code",
   "execution_count": 2,
   "metadata": {},
   "outputs": [
    {
     "name": "stdout",
     "output_type": "stream",
     "text": [
      "pi = 3.14, e = 2.72\n"
     ]
    }
   ],
   "source": [
    "pi = 3.14159\n",
    "e = 2.71828\n",
    "print(\"pi = {:.2f}, e = {:.2f}\".format(pi, e))"
   ]
  },
  {
   "cell_type": "code",
   "execution_count": 3,
   "metadata": {},
   "outputs": [
    {
     "name": "stdout",
     "output_type": "stream",
     "text": [
      "pi = 3.141593e+00, e = 2.718282e+00\n"
     ]
    }
   ],
   "source": [
    "pi = 3.141592653589793\n",
    "e = 2.718281828459045\n",
    "print(\"pi = {:.6e}, e = {:.6e}\".format(pi, e))"
   ]
  },
  {
   "cell_type": "code",
   "execution_count": 4,
   "metadata": {},
   "outputs": [
    {
     "name": "stdout",
     "output_type": "stream",
     "text": [
      "pi = 3.14159, e = 2.71828\n"
     ]
    }
   ],
   "source": [
    "pi = 3.14159\n",
    "e = 2.71828\n",
    "print(\"pi = {:.5f}, e = {:.5f}\".format(pi, e))"
   ]
  }
 ],
 "metadata": {
  "kernelspec": {
   "display_name": "Python 3",
   "language": "python",
   "name": "python3"
  },
  "language_info": {
   "codemirror_mode": {
    "name": "ipython",
    "version": 3
   },
   "file_extension": ".py",
   "mimetype": "text/x-python",
   "name": "python",
   "nbconvert_exporter": "python",
   "pygments_lexer": "ipython3",
   "version": "3.10.4"
  },
  "orig_nbformat": 4
 },
 "nbformat": 4,
 "nbformat_minor": 2
}
